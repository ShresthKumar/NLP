{
 "cells": [
  {
   "cell_type": "code",
   "execution_count": 1,
   "id": "4261e7cc",
   "metadata": {},
   "outputs": [
    {
     "data": {
      "text/plain": [
       "FreqDist({'the': 6, 'of': 5, 'and': 5, 'language': 3, 'is': 2, 'computer': 2, 'computers': 2, 'in': 2, 'to': 2, 'The': 2, ...})"
      ]
     },
     "execution_count": 1,
     "metadata": {},
     "output_type": "execute_result"
    }
   ],
   "source": [
    "import nltk\n",
    "text1 = 'Natural language processing (NLP) is an interdisciplinary subfield of linguistics, computer science, and artificial intelligence concerned with the interactions between computers and human language, in particular how to program computers to process and analyze large amounts of natural language data. The goal is a computer capable of \"understanding\" the contents of documents, including the contextual nuances of the language within them. The technology can then accurately extract information and insights contained in the documents as well as categorize and organize the documents themselves.'\n",
    "fd = nltk.FreqDist(text1.split())\n",
    "fd"
   ]
  },
  {
   "cell_type": "code",
   "execution_count": 2,
   "id": "b620207a",
   "metadata": {},
   "outputs": [
    {
     "data": {
      "text/plain": [
       "FreqDist({'of': 5, 'is': 2, 'in': 2, 'to': 2, 'as': 2, 'an': 1})"
      ]
     },
     "execution_count": 2,
     "metadata": {},
     "output_type": "execute_result"
    }
   ],
   "source": [
    "from nltk.probability import ConditionalFreqDist\n",
    "cfd = ConditionalFreqDist((len(word),word) for word in text1.split())\n",
    "cfd[2]"
   ]
  },
  {
   "cell_type": "code",
   "execution_count": 3,
   "id": "76ca5835",
   "metadata": {},
   "outputs": [
    {
     "name": "stderr",
     "output_type": "stream",
     "text": [
      "[nltk_data] Downloading package nps_chat to\n",
      "[nltk_data]     C:\\Users\\Dell\\AppData\\Roaming\\nltk_data...\n",
      "[nltk_data]   Package nps_chat is already up-to-date!\n",
      "[nltk_data] Downloading package webtext to\n",
      "[nltk_data]     C:\\Users\\Dell\\AppData\\Roaming\\nltk_data...\n",
      "[nltk_data]   Package webtext is already up-to-date!\n",
      "[nltk_data] Downloading collection 'popular'\n",
      "[nltk_data]    | \n",
      "[nltk_data]    | Downloading package cmudict to\n",
      "[nltk_data]    |     C:\\Users\\Dell\\AppData\\Roaming\\nltk_data...\n",
      "[nltk_data]    |   Package cmudict is already up-to-date!\n",
      "[nltk_data]    | Downloading package gazetteers to\n",
      "[nltk_data]    |     C:\\Users\\Dell\\AppData\\Roaming\\nltk_data...\n",
      "[nltk_data]    |   Package gazetteers is already up-to-date!\n",
      "[nltk_data]    | Downloading package genesis to\n",
      "[nltk_data]    |     C:\\Users\\Dell\\AppData\\Roaming\\nltk_data...\n",
      "[nltk_data]    |   Package genesis is already up-to-date!\n",
      "[nltk_data]    | Downloading package gutenberg to\n",
      "[nltk_data]    |     C:\\Users\\Dell\\AppData\\Roaming\\nltk_data...\n",
      "[nltk_data]    |   Package gutenberg is already up-to-date!\n",
      "[nltk_data]    | Downloading package inaugural to\n",
      "[nltk_data]    |     C:\\Users\\Dell\\AppData\\Roaming\\nltk_data...\n",
      "[nltk_data]    |   Package inaugural is already up-to-date!\n",
      "[nltk_data]    | Downloading package movie_reviews to\n",
      "[nltk_data]    |     C:\\Users\\Dell\\AppData\\Roaming\\nltk_data...\n",
      "[nltk_data]    |   Package movie_reviews is already up-to-date!\n",
      "[nltk_data]    | Downloading package names to\n",
      "[nltk_data]    |     C:\\Users\\Dell\\AppData\\Roaming\\nltk_data...\n",
      "[nltk_data]    |   Package names is already up-to-date!\n",
      "[nltk_data]    | Downloading package shakespeare to\n",
      "[nltk_data]    |     C:\\Users\\Dell\\AppData\\Roaming\\nltk_data...\n",
      "[nltk_data]    |   Package shakespeare is already up-to-date!\n",
      "[nltk_data]    | Downloading package stopwords to\n",
      "[nltk_data]    |     C:\\Users\\Dell\\AppData\\Roaming\\nltk_data...\n",
      "[nltk_data]    |   Package stopwords is already up-to-date!\n",
      "[nltk_data]    | Downloading package treebank to\n",
      "[nltk_data]    |     C:\\Users\\Dell\\AppData\\Roaming\\nltk_data...\n",
      "[nltk_data]    |   Package treebank is already up-to-date!\n",
      "[nltk_data]    | Downloading package twitter_samples to\n",
      "[nltk_data]    |     C:\\Users\\Dell\\AppData\\Roaming\\nltk_data...\n",
      "[nltk_data]    |   Package twitter_samples is already up-to-date!\n",
      "[nltk_data]    | Downloading package omw to\n",
      "[nltk_data]    |     C:\\Users\\Dell\\AppData\\Roaming\\nltk_data...\n",
      "[nltk_data]    |   Package omw is already up-to-date!\n",
      "[nltk_data]    | Downloading package omw-1.4 to\n",
      "[nltk_data]    |     C:\\Users\\Dell\\AppData\\Roaming\\nltk_data...\n",
      "[nltk_data]    |   Package omw-1.4 is already up-to-date!\n",
      "[nltk_data]    | Downloading package wordnet to\n",
      "[nltk_data]    |     C:\\Users\\Dell\\AppData\\Roaming\\nltk_data...\n",
      "[nltk_data]    |   Package wordnet is already up-to-date!\n",
      "[nltk_data]    | Downloading package wordnet2021 to\n",
      "[nltk_data]    |     C:\\Users\\Dell\\AppData\\Roaming\\nltk_data...\n",
      "[nltk_data]    |   Package wordnet2021 is already up-to-date!\n",
      "[nltk_data]    | Downloading package wordnet31 to\n",
      "[nltk_data]    |     C:\\Users\\Dell\\AppData\\Roaming\\nltk_data...\n",
      "[nltk_data]    |   Package wordnet31 is already up-to-date!\n",
      "[nltk_data]    | Downloading package wordnet_ic to\n",
      "[nltk_data]    |     C:\\Users\\Dell\\AppData\\Roaming\\nltk_data...\n",
      "[nltk_data]    |   Package wordnet_ic is already up-to-date!\n",
      "[nltk_data]    | Downloading package words to\n",
      "[nltk_data]    |     C:\\Users\\Dell\\AppData\\Roaming\\nltk_data...\n",
      "[nltk_data]    |   Package words is already up-to-date!\n",
      "[nltk_data]    | Downloading package maxent_ne_chunker to\n",
      "[nltk_data]    |     C:\\Users\\Dell\\AppData\\Roaming\\nltk_data...\n",
      "[nltk_data]    |   Package maxent_ne_chunker is already up-to-date!\n",
      "[nltk_data]    | Downloading package punkt to\n",
      "[nltk_data]    |     C:\\Users\\Dell\\AppData\\Roaming\\nltk_data...\n",
      "[nltk_data]    |   Package punkt is already up-to-date!\n",
      "[nltk_data]    | Downloading package snowball_data to\n",
      "[nltk_data]    |     C:\\Users\\Dell\\AppData\\Roaming\\nltk_data...\n",
      "[nltk_data]    |   Package snowball_data is already up-to-date!\n",
      "[nltk_data]    | Downloading package averaged_perceptron_tagger to\n",
      "[nltk_data]    |     C:\\Users\\Dell\\AppData\\Roaming\\nltk_data...\n",
      "[nltk_data]    |   Package averaged_perceptron_tagger is already up-\n",
      "[nltk_data]    |       to-date!\n",
      "[nltk_data]    | \n",
      "[nltk_data]  Done downloading collection popular\n",
      "[nltk_data] Downloading package brown to\n",
      "[nltk_data]     C:\\Users\\Dell\\AppData\\Roaming\\nltk_data...\n",
      "[nltk_data]   Package brown is already up-to-date!\n"
     ]
    },
    {
     "name": "stdout",
     "output_type": "stream",
     "text": [
      "*** Introductory Examples for the NLTK Book ***\n",
      "Loading text1, ..., text9 and sent1, ..., sent9\n",
      "Type the name of the text or sentence to view it.\n",
      "Type: 'texts()' or 'sents()' to list the materials.\n",
      "text1: Moby Dick by Herman Melville 1851\n",
      "text2: Sense and Sensibility by Jane Austen 1811\n",
      "text3: The Book of Genesis\n",
      "text4: Inaugural Address Corpus\n",
      "text5: Chat Corpus\n",
      "text6: Monty Python and the Holy Grail\n",
      "text7: Wall Street Journal\n",
      "text8: Personals Corpus\n",
      "text9: The Man Who Was Thursday by G . K . Chesterton 1908\n"
     ]
    }
   ],
   "source": [
    "#to determine frequency distribution and conditional freq dist of any one of the presidential inaugural speeches\n",
    "# nouns mean business\n",
    "nltk.download('nps_chat')\n",
    "nltk.download('webtext')\n",
    "nltk.download('popular')\n",
    "nltk.download('brown')\n",
    "from nltk.book import *"
   ]
  },
  {
   "cell_type": "code",
   "execution_count": 4,
   "id": "8f75bc1b",
   "metadata": {},
   "outputs": [
    {
     "data": {
      "text/plain": [
       "FreqDist({',': 130, 'the': 126, '.': 108, 'and': 105, 'of': 82, 'to': 66, 'our': 58, 'we': 50, 'that': 48, 'a': 47, ...})"
      ]
     },
     "execution_count": 4,
     "metadata": {},
     "output_type": "execute_result"
    }
   ],
   "source": [
    "from nltk.corpus import inaugural\n",
    "text = inaugural.words(fileids='2009-Obama.txt')\n",
    "fd = nltk.FreqDist(text)\n",
    "fd"
   ]
  },
  {
   "cell_type": "code",
   "execution_count": 5,
   "id": "2a5fd2ca",
   "metadata": {},
   "outputs": [
    {
     "data": {
      "text/plain": [
       "FreqDist({'those': 10, 'their': 9, 'every': 8, 'these': 7, 'world': 7, 'today': 5, 'words': 4, 'peace': 4, 'women': 4, 'power': 4, ...})"
      ]
     },
     "execution_count": 5,
     "metadata": {},
     "output_type": "execute_result"
    }
   ],
   "source": [
    "confd = ConditionalFreqDist((len(word),word) for word in text)\n",
    "confd[5]"
   ]
  },
  {
   "cell_type": "code",
   "execution_count": 6,
   "id": "7cb82f5b",
   "metadata": {},
   "outputs": [
    {
     "ename": "ModuleNotFoundError",
     "evalue": "No module named 'jieba'",
     "output_type": "error",
     "traceback": [
      "\u001b[1;31m---------------------------------------------------------------------------\u001b[0m",
      "\u001b[1;31mModuleNotFoundError\u001b[0m                       Traceback (most recent call last)",
      "\u001b[1;32m~\\AppData\\Local\\Temp\\ipykernel_2928\\1868043977.py\u001b[0m in \u001b[0;36m<module>\u001b[1;34m\u001b[0m\n\u001b[1;32m----> 1\u001b[1;33m \u001b[1;32mimport\u001b[0m \u001b[0mjieba\u001b[0m\u001b[1;33m\u001b[0m\u001b[1;33m\u001b[0m\u001b[0m\n\u001b[0m",
      "\u001b[1;31mModuleNotFoundError\u001b[0m: No module named 'jieba'"
     ]
    }
   ],
   "source": [
    "import jieba"
   ]
  },
  {
   "cell_type": "code",
   "execution_count": 7,
   "id": "2c42ef22",
   "metadata": {},
   "outputs": [
    {
     "name": "stderr",
     "output_type": "stream",
     "text": [
      "[nltk_data] Error loading jieba: Package 'jieba' not found in index\n"
     ]
    },
    {
     "data": {
      "text/plain": [
       "False"
      ]
     },
     "execution_count": 7,
     "metadata": {},
     "output_type": "execute_result"
    }
   ],
   "source": [
    "nltk.download('jieba')"
   ]
  },
  {
   "cell_type": "code",
   "execution_count": 8,
   "id": "2672add0",
   "metadata": {},
   "outputs": [
    {
     "name": "stdout",
     "output_type": "stream",
     "text": [
      "Collecting package metadata (current_repodata.json): ...working... done\n",
      "Solving environment: ...working... done\n",
      "\n",
      "## Package Plan ##\n",
      "\n",
      "  environment location: C:\\Users\\Dell\\anaconda3\n",
      "\n",
      "  added / updated specs:\n",
      "    - jieba\n",
      "\n",
      "\n",
      "The following packages will be downloaded:\n",
      "\n",
      "    package                    |            build\n",
      "    ---------------------------|-----------------\n",
      "    conda-22.11.1              |   py39hcbf5309_1         908 KB  conda-forge\n",
      "    jieba-0.42.1               |     pyhd8ed1ab_0        17.4 MB  conda-forge\n",
      "    python_abi-3.9             |           2_cp39           4 KB  conda-forge\n",
      "    ruamel.yaml-0.17.21        |   py39hb82d6ee_1         169 KB  conda-forge\n",
      "    ruamel.yaml.clib-0.2.6     |   py39h2bbff1b_1         101 KB\n",
      "    ------------------------------------------------------------\n",
      "                                           Total:        18.5 MB\n",
      "\n",
      "The following NEW packages will be INSTALLED:\n",
      "\n",
      "  jieba              conda-forge/noarch::jieba-0.42.1-pyhd8ed1ab_0 None\n",
      "  python_abi         conda-forge/win-64::python_abi-3.9-2_cp39 None\n",
      "  ruamel.yaml        conda-forge/win-64::ruamel.yaml-0.17.21-py39hb82d6ee_1 None\n",
      "  ruamel.yaml.clib   pkgs/main/win-64::ruamel.yaml.clib-0.2.6-py39h2bbff1b_1 None\n",
      "\n",
      "The following packages will be UPDATED:\n",
      "\n",
      "  conda              pkgs/main::conda-22.9.0-py39haa95532_0 --> conda-forge::conda-22.11.1-py39hcbf5309_1 None\n",
      "\n",
      "\n",
      "\n",
      "Downloading and Extracting Packages\n",
      "\n",
      "conda-22.11.1        | 908 KB    |            |   0% \n",
      "conda-22.11.1        | 908 KB    | 1          |   2% \n",
      "conda-22.11.1        | 908 KB    | 5          |   5% \n",
      "conda-22.11.1        | 908 KB    | #          |  11% \n",
      "conda-22.11.1        | 908 KB    | #7         |  18% \n",
      "conda-22.11.1        | 908 KB    | ##6        |  26% \n",
      "conda-22.11.1        | 908 KB    | ###3       |  33% \n",
      "conda-22.11.1        | 908 KB    | ###8       |  39% \n",
      "conda-22.11.1        | 908 KB    | ####5      |  46% \n",
      "conda-22.11.1        | 908 KB    | #####2     |  53% \n",
      "conda-22.11.1        | 908 KB    | ######5    |  65% \n",
      "conda-22.11.1        | 908 KB    | #######4   |  74% \n",
      "conda-22.11.1        | 908 KB    | ########2  |  83% \n",
      "conda-22.11.1        | 908 KB    | #########1 |  92% \n",
      "conda-22.11.1        | 908 KB    | ########## | 100% \n",
      "conda-22.11.1        | 908 KB    | ########## | 100% \n",
      "\n",
      "python_abi-3.9       | 4 KB      |            |   0% \n",
      "python_abi-3.9       | 4 KB      | ########## | 100% \n",
      "\n",
      "jieba-0.42.1         | 17.4 MB   |            |   0% \n",
      "jieba-0.42.1         | 17.4 MB   |            |   0% \n",
      "jieba-0.42.1         | 17.4 MB   |            |   0% \n",
      "jieba-0.42.1         | 17.4 MB   |            |   1% \n",
      "jieba-0.42.1         | 17.4 MB   | 1          |   1% \n",
      "jieba-0.42.1         | 17.4 MB   | 1          |   2% \n",
      "jieba-0.42.1         | 17.4 MB   | 2          |   2% \n",
      "jieba-0.42.1         | 17.4 MB   | 2          |   3% \n",
      "jieba-0.42.1         | 17.4 MB   | 2          |   3% \n",
      "jieba-0.42.1         | 17.4 MB   | 3          |   3% \n",
      "jieba-0.42.1         | 17.4 MB   | 3          |   4% \n",
      "jieba-0.42.1         | 17.4 MB   | 4          |   4% \n",
      "jieba-0.42.1         | 17.4 MB   | 4          |   5% \n",
      "jieba-0.42.1         | 17.4 MB   | 5          |   5% \n",
      "jieba-0.42.1         | 17.4 MB   | 5          |   6% \n",
      "jieba-0.42.1         | 17.4 MB   | 6          |   6% \n",
      "jieba-0.42.1         | 17.4 MB   | 6          |   7% \n",
      "jieba-0.42.1         | 17.4 MB   | 7          |   7% \n",
      "jieba-0.42.1         | 17.4 MB   | 7          |   7% \n",
      "jieba-0.42.1         | 17.4 MB   | 7          |   8% \n",
      "jieba-0.42.1         | 17.4 MB   | 8          |   8% \n",
      "jieba-0.42.1         | 17.4 MB   | 8          |   9% \n",
      "jieba-0.42.1         | 17.4 MB   | 9          |   9% \n",
      "jieba-0.42.1         | 17.4 MB   | 9          |  10% \n",
      "jieba-0.42.1         | 17.4 MB   | #          |  10% \n",
      "jieba-0.42.1         | 17.4 MB   | #          |  11% \n",
      "jieba-0.42.1         | 17.4 MB   | #1         |  11% \n",
      "jieba-0.42.1         | 17.4 MB   | #1         |  12% \n",
      "jieba-0.42.1         | 17.4 MB   | #2         |  12% \n",
      "jieba-0.42.1         | 17.4 MB   | #3         |  13% \n",
      "jieba-0.42.1         | 17.4 MB   | #3         |  13% \n",
      "jieba-0.42.1         | 17.4 MB   | #4         |  15% \n",
      "jieba-0.42.1         | 17.4 MB   | #5         |  15% \n",
      "jieba-0.42.1         | 17.4 MB   | #5         |  16% \n",
      "jieba-0.42.1         | 17.4 MB   | #6         |  16% \n",
      "jieba-0.42.1         | 17.4 MB   | #6         |  17% \n",
      "jieba-0.42.1         | 17.4 MB   | #7         |  17% \n",
      "jieba-0.42.1         | 17.4 MB   | #7         |  18% \n",
      "jieba-0.42.1         | 17.4 MB   | #8         |  18% \n",
      "jieba-0.42.1         | 17.4 MB   | #8         |  19% \n",
      "jieba-0.42.1         | 17.4 MB   | #9         |  19% \n",
      "jieba-0.42.1         | 17.4 MB   | #9         |  20% \n",
      "jieba-0.42.1         | 17.4 MB   | ##         |  20% \n",
      "jieba-0.42.1         | 17.4 MB   | ##1        |  21% \n",
      "jieba-0.42.1         | 17.4 MB   | ##1        |  21% \n",
      "jieba-0.42.1         | 17.4 MB   | ##1        |  22% \n",
      "jieba-0.42.1         | 17.4 MB   | ##2        |  22% \n",
      "jieba-0.42.1         | 17.4 MB   | ##2        |  23% \n",
      "jieba-0.42.1         | 17.4 MB   | ##3        |  23% \n",
      "jieba-0.42.1         | 17.4 MB   | ##4        |  24% \n",
      "jieba-0.42.1         | 17.4 MB   | ##4        |  25% \n",
      "jieba-0.42.1         | 17.4 MB   | ##5        |  25% \n",
      "jieba-0.42.1         | 17.4 MB   | ##6        |  26% \n",
      "jieba-0.42.1         | 17.4 MB   | ##6        |  27% \n",
      "jieba-0.42.1         | 17.4 MB   | ##7        |  27% \n",
      "jieba-0.42.1         | 17.4 MB   | ##8        |  28% \n",
      "jieba-0.42.1         | 17.4 MB   | ##8        |  29% \n",
      "jieba-0.42.1         | 17.4 MB   | ##9        |  29% \n",
      "jieba-0.42.1         | 17.4 MB   | ##9        |  29% \n",
      "jieba-0.42.1         | 17.4 MB   | ##9        |  30% \n",
      "jieba-0.42.1         | 17.4 MB   | ###        |  30% \n",
      "jieba-0.42.1         | 17.4 MB   | ###        |  31% \n",
      "jieba-0.42.1         | 17.4 MB   | ###1       |  32% \n",
      "jieba-0.42.1         | 17.4 MB   | ###2       |  32% \n",
      "jieba-0.42.1         | 17.4 MB   | ###2       |  33% \n",
      "jieba-0.42.1         | 17.4 MB   | ###3       |  33% \n",
      "jieba-0.42.1         | 17.4 MB   | ###3       |  34% \n",
      "jieba-0.42.1         | 17.4 MB   | ###4       |  34% \n",
      "jieba-0.42.1         | 17.4 MB   | ###4       |  35% \n",
      "jieba-0.42.1         | 17.4 MB   | ###5       |  35% \n",
      "jieba-0.42.1         | 17.4 MB   | ###5       |  35% \n",
      "jieba-0.42.1         | 17.4 MB   | ###6       |  36% \n",
      "jieba-0.42.1         | 17.4 MB   | ###7       |  37% \n",
      "jieba-0.42.1         | 17.4 MB   | ###7       |  38% \n",
      "jieba-0.42.1         | 17.4 MB   | ###7       |  38% \n",
      "jieba-0.42.1         | 17.4 MB   | ###8       |  38% \n",
      "jieba-0.42.1         | 17.4 MB   | ###8       |  39% \n",
      "jieba-0.42.1         | 17.4 MB   | ###8       |  39% \n",
      "jieba-0.42.1         | 17.4 MB   | ####       |  40% \n",
      "jieba-0.42.1         | 17.4 MB   | ####       |  41% \n",
      "jieba-0.42.1         | 17.4 MB   | ####1      |  42% \n",
      "jieba-0.42.1         | 17.4 MB   | ####2      |  42% \n",
      "jieba-0.42.1         | 17.4 MB   | ####2      |  43% \n",
      "jieba-0.42.1         | 17.4 MB   | ####3      |  43% \n",
      "jieba-0.42.1         | 17.4 MB   | ####3      |  44% \n",
      "jieba-0.42.1         | 17.4 MB   | ####4      |  44% \n",
      "jieba-0.42.1         | 17.4 MB   | ####4      |  45% \n",
      "jieba-0.42.1         | 17.4 MB   | ####5      |  45% \n",
      "jieba-0.42.1         | 17.4 MB   | ####5      |  45% \n",
      "jieba-0.42.1         | 17.4 MB   | ####5      |  46% \n",
      "jieba-0.42.1         | 17.4 MB   | ####6      |  46% \n",
      "jieba-0.42.1         | 17.4 MB   | ####6      |  47% \n",
      "jieba-0.42.1         | 17.4 MB   | ####7      |  47% \n",
      "jieba-0.42.1         | 17.4 MB   | ####7      |  48% \n",
      "jieba-0.42.1         | 17.4 MB   | ####8      |  48% \n",
      "jieba-0.42.1         | 17.4 MB   | ####9      |  49% \n",
      "jieba-0.42.1         | 17.4 MB   | ####9      |  50% \n",
      "jieba-0.42.1         | 17.4 MB   | #####      |  50% \n",
      "jieba-0.42.1         | 17.4 MB   | #####      |  51% \n",
      "jieba-0.42.1         | 17.4 MB   | #####1     |  51% \n",
      "jieba-0.42.1         | 17.4 MB   | #####1     |  52% \n",
      "jieba-0.42.1         | 17.4 MB   | #####2     |  52% \n",
      "jieba-0.42.1         | 17.4 MB   | #####2     |  53% \n",
      "jieba-0.42.1         | 17.4 MB   | #####3     |  53% \n",
      "jieba-0.42.1         | 17.4 MB   | #####3     |  54% \n",
      "jieba-0.42.1         | 17.4 MB   | #####4     |  54% \n",
      "jieba-0.42.1         | 17.4 MB   | #####4     |  55% \n",
      "jieba-0.42.1         | 17.4 MB   | #####5     |  55% \n",
      "jieba-0.42.1         | 17.4 MB   | #####5     |  56% \n",
      "jieba-0.42.1         | 17.4 MB   | #####6     |  56% \n",
      "jieba-0.42.1         | 17.4 MB   | #####6     |  57% \n",
      "jieba-0.42.1         | 17.4 MB   | #####6     |  57% \n",
      "jieba-0.42.1         | 17.4 MB   | #####7     |  57% \n",
      "jieba-0.42.1         | 17.4 MB   | #####7     |  58% \n",
      "jieba-0.42.1         | 17.4 MB   | #####8     |  58% \n",
      "jieba-0.42.1         | 17.4 MB   | #####8     |  59% \n",
      "jieba-0.42.1         | 17.4 MB   | #####9     |  59% \n",
      "jieba-0.42.1         | 17.4 MB   | #####9     |  60% \n",
      "jieba-0.42.1         | 17.4 MB   | ######     |  60% \n",
      "jieba-0.42.1         | 17.4 MB   | ######     |  61% \n",
      "jieba-0.42.1         | 17.4 MB   | ######1    |  61% \n",
      "jieba-0.42.1         | 17.4 MB   | ######2    |  62% \n",
      "jieba-0.42.1         | 17.4 MB   | ######2    |  62% \n",
      "jieba-0.42.1         | 17.4 MB   | ######2    |  63% \n",
      "jieba-0.42.1         | 17.4 MB   | ######3    |  63% \n",
      "jieba-0.42.1         | 17.4 MB   | ######3    |  64% \n",
      "jieba-0.42.1         | 17.4 MB   | ######4    |  64% \n",
      "jieba-0.42.1         | 17.4 MB   | ######4    |  65% \n",
      "jieba-0.42.1         | 17.4 MB   | ######5    |  65% \n",
      "jieba-0.42.1         | 17.4 MB   | ######5    |  66% \n",
      "jieba-0.42.1         | 17.4 MB   | ######6    |  66% \n",
      "jieba-0.42.1         | 17.4 MB   | ######6    |  67% \n",
      "jieba-0.42.1         | 17.4 MB   | ######7    |  67% \n",
      "jieba-0.42.1         | 17.4 MB   | ######7    |  68% \n",
      "jieba-0.42.1         | 17.4 MB   | ######8    |  68% \n",
      "jieba-0.42.1         | 17.4 MB   | ######8    |  69% \n",
      "jieba-0.42.1         | 17.4 MB   | ######9    |  69% \n",
      "jieba-0.42.1         | 17.4 MB   | ######9    |  69% \n",
      "jieba-0.42.1         | 17.4 MB   | ######9    |  70% \n",
      "jieba-0.42.1         | 17.4 MB   | #######    |  70% \n",
      "jieba-0.42.1         | 17.4 MB   | #######    |  71% \n",
      "jieba-0.42.1         | 17.4 MB   | #######1   |  71% \n",
      "jieba-0.42.1         | 17.4 MB   | #######1   |  72% \n",
      "jieba-0.42.1         | 17.4 MB   | #######2   |  72% \n",
      "jieba-0.42.1         | 17.4 MB   | #######2   |  73% \n",
      "jieba-0.42.1         | 17.4 MB   | #######3   |  73% \n",
      "jieba-0.42.1         | 17.4 MB   | #######3   |  74% \n",
      "jieba-0.42.1         | 17.4 MB   | #######3   |  74% \n",
      "jieba-0.42.1         | 17.4 MB   | #######4   |  74% \n",
      "jieba-0.42.1         | 17.4 MB   | #######4   |  75% \n",
      "jieba-0.42.1         | 17.4 MB   | #######5   |  75% \n",
      "jieba-0.42.1         | 17.4 MB   | #######5   |  76% \n",
      "jieba-0.42.1         | 17.4 MB   | #######6   |  76% \n",
      "jieba-0.42.1         | 17.4 MB   | #######6   |  77% \n",
      "jieba-0.42.1         | 17.4 MB   | #######7   |  77% \n",
      "jieba-0.42.1         | 17.4 MB   | #######7   |  78% \n",
      "jieba-0.42.1         | 17.4 MB   | #######8   |  78% \n",
      "jieba-0.42.1         | 17.4 MB   | #######8   |  79% \n",
      "jieba-0.42.1         | 17.4 MB   | #######8   |  79% \n",
      "jieba-0.42.1         | 17.4 MB   | #######9   |  80% \n",
      "jieba-0.42.1         | 17.4 MB   | ########   |  80% \n",
      "jieba-0.42.1         | 17.4 MB   | ########   |  81% \n",
      "jieba-0.42.1         | 17.4 MB   | ########1  |  81% \n",
      "jieba-0.42.1         | 17.4 MB   | ########1  |  82% \n",
      "jieba-0.42.1         | 17.4 MB   | ########2  |  82% \n",
      "jieba-0.42.1         | 17.4 MB   | ########2  |  83% \n",
      "jieba-0.42.1         | 17.4 MB   | ########2  |  83% \n",
      "jieba-0.42.1         | 17.4 MB   | ########3  |  83% \n",
      "jieba-0.42.1         | 17.4 MB   | ########4  |  84% \n",
      "jieba-0.42.1         | 17.4 MB   | ########4  |  85% \n",
      "jieba-0.42.1         | 17.4 MB   | ########5  |  85% \n",
      "jieba-0.42.1         | 17.4 MB   | ########5  |  86% \n",
      "jieba-0.42.1         | 17.4 MB   | ########6  |  86% \n",
      "jieba-0.42.1         | 17.4 MB   | ########6  |  87% \n",
      "jieba-0.42.1         | 17.4 MB   | ########7  |  87% \n",
      "jieba-0.42.1         | 17.4 MB   | ########7  |  88% \n",
      "jieba-0.42.1         | 17.4 MB   | ########7  |  88% \n",
      "jieba-0.42.1         | 17.4 MB   | ########8  |  89% \n",
      "jieba-0.42.1         | 17.4 MB   | ########9  |  89% \n",
      "jieba-0.42.1         | 17.4 MB   | #########  |  90% \n",
      "jieba-0.42.1         | 17.4 MB   | #########  |  91% \n",
      "jieba-0.42.1         | 17.4 MB   | #########1 |  92% \n",
      "jieba-0.42.1         | 17.4 MB   | #########2 |  92% \n",
      "jieba-0.42.1         | 17.4 MB   | #########2 |  93% \n",
      "jieba-0.42.1         | 17.4 MB   | #########3 |  94% \n",
      "jieba-0.42.1         | 17.4 MB   | #########4 |  94% \n",
      "jieba-0.42.1         | 17.4 MB   | #########4 |  95% \n",
      "jieba-0.42.1         | 17.4 MB   | #########5 |  95% \n",
      "jieba-0.42.1         | 17.4 MB   | #########5 |  96% \n",
      "jieba-0.42.1         | 17.4 MB   | #########6 |  96% \n",
      "jieba-0.42.1         | 17.4 MB   | #########6 |  97% \n",
      "jieba-0.42.1         | 17.4 MB   | #########7 |  97% \n",
      "jieba-0.42.1         | 17.4 MB   | #########7 |  97% \n",
      "jieba-0.42.1         | 17.4 MB   | #########8 |  98% \n",
      "jieba-0.42.1         | 17.4 MB   | #########8 |  99% \n",
      "jieba-0.42.1         | 17.4 MB   | #########9 |  99% \n",
      "jieba-0.42.1         | 17.4 MB   | #########9 |  99% \n",
      "jieba-0.42.1         | 17.4 MB   | #########9 | 100% \n",
      "jieba-0.42.1         | 17.4 MB   | ########## | 100% \n",
      "\n",
      "ruamel.yaml-0.17.21  | 169 KB    |            |   0% \n",
      "ruamel.yaml-0.17.21  | 169 KB    | 9          |   9% \n",
      "ruamel.yaml-0.17.21  | 169 KB    | #####6     |  57% \n",
      "ruamel.yaml-0.17.21  | 169 KB    | ########## | 100% \n",
      "ruamel.yaml-0.17.21  | 169 KB    | ########## | 100% \n",
      "\n",
      "ruamel.yaml.clib-0.2 | 101 KB    |            |   0% \n",
      "ruamel.yaml.clib-0.2 | 101 KB    | #5         |  16% \n",
      "ruamel.yaml.clib-0.2 | 101 KB    | #########5 |  95% \n",
      "ruamel.yaml.clib-0.2 | 101 KB    | ########## | 100% \n",
      "Preparing transaction: ...working... done\n",
      "Verifying transaction: ...working... done\n",
      "Executing transaction: ...working... done\n",
      "Retrieving notices: ...working... done\n",
      "\n",
      "Note: you may need to restart the kernel to use updated packages.\n"
     ]
    },
    {
     "name": "stderr",
     "output_type": "stream",
     "text": [
      "\n",
      "\n",
      "==> WARNING: A newer version of conda exists. <==\n",
      "  current version: 22.9.0\n",
      "  latest version: 22.11.1\n",
      "\n",
      "Please update conda by running\n",
      "\n",
      "    $ conda update -n base -c defaults conda\n",
      "\n",
      "\n"
     ]
    }
   ],
   "source": [
    "conda install -c conda-forge jieba"
   ]
  },
  {
   "cell_type": "code",
   "execution_count": 9,
   "id": "9325a80b",
   "metadata": {},
   "outputs": [],
   "source": [
    "import jieba"
   ]
  },
  {
   "cell_type": "code",
   "execution_count": 10,
   "id": "2bb51505",
   "metadata": {},
   "outputs": [
    {
     "name": "stderr",
     "output_type": "stream",
     "text": [
      "Building prefix dict from the default dictionary ...\n",
      "Dumping model to file cache C:\\Users\\Dell\\AppData\\Local\\Temp\\jieba.cache\n",
      "Loading model cost 0.580 seconds.\n",
      "Prefix dict has been built successfully.\n"
     ]
    },
    {
     "name": "stdout",
     "output_type": "stream",
     "text": [
      "他 今天 晚上 不来 参加 宴会 了 ， 对 吗 ？\n"
     ]
    }
   ],
   "source": [
    "seg = jieba.cut(\"他今天晚上不来参加宴会了，对吗？\",cut_all = True)\n",
    "print(\" \".join(seg))"
   ]
  },
  {
   "cell_type": "code",
   "execution_count": 11,
   "id": "693e5d0a",
   "metadata": {},
   "outputs": [
    {
     "name": "stdout",
     "output_type": "stream",
     "text": [
      "['Become', 'an', 'expert', 'in', 'NLP']\n"
     ]
    }
   ],
   "source": [
    "sent = 'Become an expert in NLP'\n",
    "words = nltk.word_tokenize(sent)\n",
    "print(words)"
   ]
  },
  {
   "cell_type": "code",
   "execution_count": 12,
   "id": "e99961e0",
   "metadata": {},
   "outputs": [
    {
     "data": {
      "text/plain": [
       "['Cristiano Ronaldo dos Santos Aveiro GOIH ComM (Portuguese pronunciation; born 5 February 1985) is a Portuguese professional footballer who plays as a forward and captains the Portugal national team.',\n",
       " 'He is currently a free agent.',\n",
       " 'Widely regarded as one of the greatest players of all time, Ronaldo has won five Ballon dOr awards and four European Golden Shoes, the most by a European player.',\n",
       " 'He has won 32 trophies in his career, including seven league titles, five UEFA Champions Leagues, and the UEFA European Championship.',\n",
       " 'Ronaldo holds the records for most appearances (183), goals (140), and assists (42) in the Champions League, goals in the European Championship (14), international goals (118), and joint-most international appearances (196).',\n",
       " 'He is one of the few players to have made over 1,100 professional career appearances, and has scored over 800 official senior career goals for club and country.',\n",
       " 'He is the only male player to score in five World Cup tournaments.']"
      ]
     },
     "execution_count": 12,
     "metadata": {},
     "output_type": "execute_result"
    }
   ],
   "source": [
    "text2 = \"Cristiano Ronaldo dos Santos Aveiro GOIH ComM (Portuguese pronunciation; born 5 February 1985) is a Portuguese professional footballer who plays as a forward and captains the Portugal national team. He is currently a free agent. Widely regarded as one of the greatest players of all time, Ronaldo has won five Ballon dOr awards and four European Golden Shoes, the most by a European player. He has won 32 trophies in his career, including seven league titles, five UEFA Champions Leagues, and the UEFA European Championship. Ronaldo holds the records for most appearances (183), goals (140), and assists (42) in the Champions League, goals in the European Championship (14), international goals (118), and joint-most international appearances (196). He is one of the few players to have made over 1,100 professional career appearances, and has scored over 800 official senior career goals for club and country. He is the only male player to score in five World Cup tournaments.\"\n",
    "sentences = nltk.sent_tokenize(text2)\n",
    "sentences"
   ]
  },
  {
   "cell_type": "code",
   "execution_count": 13,
   "id": "8523d56c",
   "metadata": {},
   "outputs": [
    {
     "name": "stdout",
     "output_type": "stream",
     "text": [
      "['Cristiano', 'Ronaldo', 'dos', 'Santos', 'Aveiro', 'GOIH', 'ComM', '(', 'Portuguese', 'pronunciation', ';', 'born', '5', 'February', '1985', ')', 'is', 'a', 'Portuguese', 'professional', 'footballer', 'who', 'plays', 'as', 'a', 'forward', 'and', 'captains', 'the', 'Portugal', 'national', 'team', '.']\n",
      "[('Cristiano', 'NNP'), ('Ronaldo', 'NNP'), ('dos', 'NN'), ('Santos', 'NNP'), ('Aveiro', 'NNP'), ('GOIH', 'NNP'), ('ComM', 'NNP'), ('(', '('), ('Portuguese', 'JJ'), ('pronunciation', 'NN'), (';', ':'), ('born', 'CC'), ('5', 'CD'), ('February', 'NNP'), ('1985', 'CD'), (')', ')'), ('is', 'VBZ'), ('a', 'DT'), ('Portuguese', 'JJ'), ('professional', 'JJ'), ('footballer', 'NN'), ('who', 'WP'), ('plays', 'VBZ'), ('as', 'IN'), ('a', 'DT'), ('forward', 'NN'), ('and', 'CC'), ('captains', 'VBZ'), ('the', 'DT'), ('Portugal', 'NNP'), ('national', 'JJ'), ('team', 'NN'), ('.', '.')]\n",
      "['He', 'is', 'currently', 'a', 'free', 'agent', '.']\n",
      "[('He', 'PRP'), ('is', 'VBZ'), ('currently', 'RB'), ('a', 'DT'), ('free', 'JJ'), ('agent', 'NN'), ('.', '.')]\n",
      "['Widely', 'regarded', 'as', 'one', 'of', 'the', 'greatest', 'players', 'of', 'all', 'time', ',', 'Ronaldo', 'has', 'won', 'five', 'Ballon', 'dOr', 'awards', 'and', 'four', 'European', 'Golden', 'Shoes', ',', 'the', 'most', 'by', 'a', 'European', 'player', '.']\n",
      "[('Widely', 'RB'), ('regarded', 'VBN'), ('as', 'IN'), ('one', 'CD'), ('of', 'IN'), ('the', 'DT'), ('greatest', 'JJS'), ('players', 'NNS'), ('of', 'IN'), ('all', 'DT'), ('time', 'NN'), (',', ','), ('Ronaldo', 'NNP'), ('has', 'VBZ'), ('won', 'VBN'), ('five', 'CD'), ('Ballon', 'NNP'), ('dOr', 'NN'), ('awards', 'NNS'), ('and', 'CC'), ('four', 'CD'), ('European', 'JJ'), ('Golden', 'NNP'), ('Shoes', 'NNP'), (',', ','), ('the', 'DT'), ('most', 'RBS'), ('by', 'IN'), ('a', 'DT'), ('European', 'NNP'), ('player', 'NN'), ('.', '.')]\n",
      "['He', 'has', 'won', '32', 'trophies', 'in', 'his', 'career', ',', 'including', 'seven', 'league', 'titles', ',', 'five', 'UEFA', 'Champions', 'Leagues', ',', 'and', 'the', 'UEFA', 'European', 'Championship', '.']\n",
      "[('He', 'PRP'), ('has', 'VBZ'), ('won', 'VBN'), ('32', 'CD'), ('trophies', 'NNS'), ('in', 'IN'), ('his', 'PRP$'), ('career', 'NN'), (',', ','), ('including', 'VBG'), ('seven', 'CD'), ('league', 'JJ'), ('titles', 'NNS'), (',', ','), ('five', 'CD'), ('UEFA', 'NNP'), ('Champions', 'NNPS'), ('Leagues', 'NNP'), (',', ','), ('and', 'CC'), ('the', 'DT'), ('UEFA', 'NNP'), ('European', 'NNP'), ('Championship', 'NNP'), ('.', '.')]\n",
      "['Ronaldo', 'holds', 'the', 'records', 'for', 'most', 'appearances', '(', '183', ')', ',', 'goals', '(', '140', ')', ',', 'and', 'assists', '(', '42', ')', 'in', 'the', 'Champions', 'League', ',', 'goals', 'in', 'the', 'European', 'Championship', '(', '14', ')', ',', 'international', 'goals', '(', '118', ')', ',', 'and', 'joint-most', 'international', 'appearances', '(', '196', ')', '.']\n",
      "[('Ronaldo', 'NNP'), ('holds', 'VBZ'), ('the', 'DT'), ('records', 'NNS'), ('for', 'IN'), ('most', 'JJS'), ('appearances', 'NNS'), ('(', '('), ('183', 'CD'), (')', ')'), (',', ','), ('goals', 'NNS'), ('(', '('), ('140', 'CD'), (')', ')'), (',', ','), ('and', 'CC'), ('assists', 'NNS'), ('(', '('), ('42', 'CD'), (')', ')'), ('in', 'IN'), ('the', 'DT'), ('Champions', 'NNP'), ('League', 'NNP'), (',', ','), ('goals', 'NNS'), ('in', 'IN'), ('the', 'DT'), ('European', 'JJ'), ('Championship', 'NNP'), ('(', '('), ('14', 'CD'), (')', ')'), (',', ','), ('international', 'JJ'), ('goals', 'NNS'), ('(', '('), ('118', 'CD'), (')', ')'), (',', ','), ('and', 'CC'), ('joint-most', 'JJ'), ('international', 'JJ'), ('appearances', 'NNS'), ('(', '('), ('196', 'CD'), (')', ')'), ('.', '.')]\n",
      "['He', 'is', 'one', 'of', 'the', 'few', 'players', 'to', 'have', 'made', 'over', '1,100', 'professional', 'career', 'appearances', ',', 'and', 'has', 'scored', 'over', '800', 'official', 'senior', 'career', 'goals', 'for', 'club', 'and', 'country', '.']\n",
      "[('He', 'PRP'), ('is', 'VBZ'), ('one', 'CD'), ('of', 'IN'), ('the', 'DT'), ('few', 'JJ'), ('players', 'NNS'), ('to', 'TO'), ('have', 'VB'), ('made', 'VBN'), ('over', 'IN'), ('1,100', 'CD'), ('professional', 'JJ'), ('career', 'NN'), ('appearances', 'NNS'), (',', ','), ('and', 'CC'), ('has', 'VBZ'), ('scored', 'VBN'), ('over', 'IN'), ('800', 'CD'), ('official', 'JJ'), ('senior', 'JJ'), ('career', 'NN'), ('goals', 'NNS'), ('for', 'IN'), ('club', 'NN'), ('and', 'CC'), ('country', 'NN'), ('.', '.')]\n",
      "['He', 'is', 'the', 'only', 'male', 'player', 'to', 'score', 'in', 'five', 'World', 'Cup', 'tournaments', '.']\n",
      "[('He', 'PRP'), ('is', 'VBZ'), ('the', 'DT'), ('only', 'JJ'), ('male', 'NN'), ('player', 'NN'), ('to', 'TO'), ('score', 'VB'), ('in', 'IN'), ('five', 'CD'), ('World', 'NNP'), ('Cup', 'NNP'), ('tournaments', 'NNS'), ('.', '.')]\n"
     ]
    }
   ],
   "source": [
    "for sentence in sentences:\n",
    "  words = nltk.word_tokenize(sentence)\n",
    "  print(words)\n",
    "  tagged = nltk.pos_tag(words)\n",
    "  print(tagged)"
   ]
  },
  {
   "cell_type": "code",
   "execution_count": null,
   "id": "6196faca",
   "metadata": {},
   "outputs": [],
   "source": []
  }
 ],
 "metadata": {
  "kernelspec": {
   "display_name": "Python 3 (ipykernel)",
   "language": "python",
   "name": "python3"
  },
  "language_info": {
   "codemirror_mode": {
    "name": "ipython",
    "version": 3
   },
   "file_extension": ".py",
   "mimetype": "text/x-python",
   "name": "python",
   "nbconvert_exporter": "python",
   "pygments_lexer": "ipython3",
   "version": "3.9.13"
  }
 },
 "nbformat": 4,
 "nbformat_minor": 5
}
