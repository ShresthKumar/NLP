{
 "cells": [
  {
   "cell_type": "code",
   "execution_count": 3,
   "id": "5ff29591",
   "metadata": {},
   "outputs": [],
   "source": [
    "from sklearn.feature_extraction.text import CountVectorizer \n",
    "vect = CountVectorizer(binary = True)"
   ]
  },
  {
   "cell_type": "code",
   "execution_count": 4,
   "id": "b30524e1",
   "metadata": {},
   "outputs": [],
   "source": [
    "corpus = [\"NLP is awesome\",\"I want to learn\",\"Today is Friday\"]"
   ]
  },
  {
   "cell_type": "code",
   "execution_count": 7,
   "id": "ef27950e",
   "metadata": {},
   "outputs": [
    {
     "data": {
      "text/plain": [
       "CountVectorizer(binary=True)"
      ]
     },
     "execution_count": 7,
     "metadata": {},
     "output_type": "execute_result"
    }
   ],
   "source": [
    "vect.fit(corpus)"
   ]
  },
  {
   "cell_type": "code",
   "execution_count": 8,
   "id": "c96e5a06",
   "metadata": {},
   "outputs": [],
   "source": [
    "vocab = vect.vocabulary_"
   ]
  },
  {
   "cell_type": "code",
   "execution_count": 9,
   "id": "f988ca71",
   "metadata": {
    "scrolled": true
   },
   "outputs": [
    {
     "name": "stdout",
     "output_type": "stream",
     "text": [
      "nlp:4\n",
      "is:2\n",
      "awesome:0\n",
      "want:7\n",
      "to:5\n",
      "learn:3\n",
      "today:6\n",
      "friday:1\n"
     ]
    }
   ],
   "source": [
    "for key in vocab.keys():\n",
    "    print(\"{}:{}\".format(key,vocab[key]))"
   ]
  },
  {
   "cell_type": "code",
   "execution_count": 10,
   "id": "580b3943",
   "metadata": {},
   "outputs": [
    {
     "data": {
      "text/plain": [
       "array([[1, 0, 0, 0, 1, 0, 0, 0]], dtype=int64)"
      ]
     },
     "execution_count": 10,
     "metadata": {},
     "output_type": "execute_result"
    }
   ],
   "source": [
    "vect.transform([\"I have an awesome NLP Company worth an awesome billion\"]).toarray()"
   ]
  },
  {
   "cell_type": "code",
   "execution_count": 20,
   "id": "c9f3bcfe",
   "metadata": {},
   "outputs": [],
   "source": [
    "from sklearn.metrics.pairwise import cosine_similarity\n",
    "similarity = cosine_similarity(vect.transform([\"NLP is an elective\"]).toarray(),vect.transform([\"SE is an attractive career option now\"]).toarray())"
   ]
  },
  {
   "cell_type": "code",
   "execution_count": 21,
   "id": "ed02ee1e",
   "metadata": {},
   "outputs": [
    {
     "name": "stdout",
     "output_type": "stream",
     "text": [
      "[[0.70710678]]\n"
     ]
    }
   ],
   "source": [
    "print(similarity)"
   ]
  },
  {
   "cell_type": "code",
   "execution_count": null,
   "id": "d40a07aa",
   "metadata": {},
   "outputs": [],
   "source": []
  }
 ],
 "metadata": {
  "kernelspec": {
   "display_name": "Python 3 (ipykernel)",
   "language": "python",
   "name": "python3"
  },
  "language_info": {
   "codemirror_mode": {
    "name": "ipython",
    "version": 3
   },
   "file_extension": ".py",
   "mimetype": "text/x-python",
   "name": "python",
   "nbconvert_exporter": "python",
   "pygments_lexer": "ipython3",
   "version": "3.9.13"
  }
 },
 "nbformat": 4,
 "nbformat_minor": 5
}
